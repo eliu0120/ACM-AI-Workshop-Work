{
 "cells": [
  {
   "cell_type": "markdown",
   "metadata": {
    "id": "NQtdGuhYtyJL"
   },
   "source": [
    "# ACM AI Beginner Track\n",
    "# Intro to Python - Skeleton Notebook"
   ]
  },
  {
   "cell_type": "markdown",
   "metadata": {
    "id": "yqff7ldmtyJX"
   },
   "source": [
    "## Data Types and Operations"
   ]
  },
  {
   "cell_type": "markdown",
   "metadata": {
    "id": "ZuDMq4Ksy3QF"
   },
   "source": [
    "### Q. How would we do Math?"
   ]
  },
  {
   "cell_type": "markdown",
   "metadata": {
    "id": "XhRThA52tyJa"
   },
   "source": [
    "### Integers and Floats"
   ]
  },
  {
   "cell_type": "code",
   "execution_count": 1,
   "metadata": {
    "colab": {
     "base_uri": "https://localhost:8080/"
    },
    "id": "KM09YgnEtyJf",
    "outputId": "aa964cba-fabf-44b6-ba85-888aac03004b"
   },
   "outputs": [
    {
     "data": {
      "text/plain": [
       "7"
      ]
     },
     "execution_count": 1,
     "metadata": {},
     "output_type": "execute_result"
    }
   ],
   "source": [
    "# Addition\n",
    "3 + 4"
   ]
  },
  {
   "cell_type": "code",
   "execution_count": 2,
   "metadata": {
    "id": "ILdV42G3tyJ2"
   },
   "outputs": [
    {
     "data": {
      "text/plain": [
       "12"
      ]
     },
     "execution_count": 2,
     "metadata": {},
     "output_type": "execute_result"
    }
   ],
   "source": [
    "# Multiplication\n",
    "4 * 3"
   ]
  },
  {
   "cell_type": "code",
   "execution_count": 3,
   "metadata": {
    "id": "G1H9GQ2etyKG"
   },
   "outputs": [
    {
     "data": {
      "text/plain": [
       "3"
      ]
     },
     "execution_count": 3,
     "metadata": {},
     "output_type": "execute_result"
    }
   ],
   "source": [
    "# Subtraction\n",
    "7 - 4"
   ]
  },
  {
   "cell_type": "code",
   "execution_count": 4,
   "metadata": {
    "id": "kfR1ASurtyKd"
   },
   "outputs": [
    {
     "data": {
      "text/plain": [
       "27"
      ]
     },
     "execution_count": 4,
     "metadata": {},
     "output_type": "execute_result"
    }
   ],
   "source": [
    "# Modulo \n",
    "3 ** 3"
   ]
  },
  {
   "cell_type": "code",
   "execution_count": 5,
   "metadata": {
    "id": "D08L3g98tyKT"
   },
   "outputs": [
    {
     "data": {
      "text/plain": [
       "3.5"
      ]
     },
     "execution_count": 5,
     "metadata": {},
     "output_type": "execute_result"
    }
   ],
   "source": [
    "# Division\n",
    "7 / 2"
   ]
  },
  {
   "cell_type": "code",
   "execution_count": 6,
   "metadata": {
    "id": "aHBhww7kx-PS"
   },
   "outputs": [
    {
     "data": {
      "text/plain": [
       "3"
      ]
     },
     "execution_count": 6,
     "metadata": {},
     "output_type": "execute_result"
    }
   ],
   "source": [
    "# Integer Division\n",
    "7 // 2"
   ]
  },
  {
   "cell_type": "code",
   "execution_count": 7,
   "metadata": {
    "id": "8_NP1sHktyLH"
   },
   "outputs": [
    {
     "data": {
      "text/plain": [
       "256"
      ]
     },
     "execution_count": 7,
     "metadata": {},
     "output_type": "execute_result"
    }
   ],
   "source": [
    "# Exponentiation \n",
    "2**2**3"
   ]
  },
  {
   "cell_type": "markdown",
   "metadata": {
    "id": "cELUmB_7zAFB"
   },
   "source": [
    "I just came up with a cool number, how do I save it?"
   ]
  },
  {
   "cell_type": "markdown",
   "metadata": {
    "id": "2GqfoemptyLU"
   },
   "source": [
    "### Variables\n",
    "Variables cannot begin with numbers or special characters. Variable naming conventions use all lowercase letters, with words separated by underscores."
   ]
  },
  {
   "cell_type": "code",
   "execution_count": 8,
   "metadata": {
    "id": "Di_nGdgBtyLW"
   },
   "outputs": [],
   "source": [
    "# define a variable\n",
    "y = None"
   ]
  },
  {
   "cell_type": "code",
   "execution_count": 9,
   "metadata": {
    "id": "9U7f1D0ktyLf"
   },
   "outputs": [],
   "source": [
    "# use variables to do math like we talked about before\n",
    "y = 5 + 3"
   ]
  },
  {
   "cell_type": "code",
   "execution_count": 10,
   "metadata": {
    "id": "ey61zD_Gyybe"
   },
   "outputs": [],
   "source": [
    "# Initialize x as 3\n",
    "x = 3"
   ]
  },
  {
   "cell_type": "markdown",
   "metadata": {
    "id": "9qrsqz3gyoba"
   },
   "source": [
    "**Important Note:** <br>\n",
    "Google Colab notebooks preserve the state of the variables. <br>\n",
    "Try running the cell below twice and see what the output is\n"
   ]
  },
  {
   "cell_type": "code",
   "execution_count": 11,
   "metadata": {
    "colab": {
     "base_uri": "https://localhost:8080/"
    },
    "id": "6jzQYBnuyXfi",
    "outputId": "991ac528-04f2-4bf2-9da3-71f003e4a7f8"
   },
   "outputs": [
    {
     "name": "stdout",
     "output_type": "stream",
     "text": [
      "4\n"
     ]
    }
   ],
   "source": [
    "x = x+1\n",
    "print(x)        # what do you think the output will be?"
   ]
  },
  {
   "cell_type": "markdown",
   "metadata": {
    "id": "alDmD7JbzEk2"
   },
   "source": [
    "### Q. I want to store my name in the computer, how would I do that?\n"
   ]
  },
  {
   "cell_type": "markdown",
   "metadata": {
    "id": "gwt5KfPwtyMA"
   },
   "source": [
    "### Strings\n",
    "Python makes use of single and double quotes."
   ]
  },
  {
   "cell_type": "code",
   "execution_count": 12,
   "metadata": {
    "id": "WZhlJGBYtyMC"
   },
   "outputs": [
    {
     "data": {
      "text/plain": [
       "'Smallberg'"
      ]
     },
     "execution_count": 12,
     "metadata": {},
     "output_type": "execute_result"
    }
   ],
   "source": [
    "# Define a string in two ways\n",
    "name = 'Smallberg'\n",
    "name"
   ]
  },
  {
   "cell_type": "markdown",
   "metadata": {
    "id": "w9fpcDR-zJ8T"
   },
   "source": [
    "### Q. How would I get the computer to display my name, which I had just stored?"
   ]
  },
  {
   "cell_type": "markdown",
   "metadata": {
    "id": "t_iz-2obtyMd"
   },
   "source": [
    "### Printing \n",
    "The main way to ouput data in Python."
   ]
  },
  {
   "cell_type": "code",
   "execution_count": 13,
   "metadata": {
    "id": "qV4APqO2tyMf"
   },
   "outputs": [
    {
     "name": "stdout",
     "output_type": "stream",
     "text": [
      "Smallberg\n"
     ]
    }
   ],
   "source": [
    "# print(value to be printed)\n",
    "print(name)"
   ]
  },
  {
   "cell_type": "markdown",
   "metadata": {
    "id": "KTg6FqLczNc4"
   },
   "source": [
    "### Q. How would I store multiple values in one spot?"
   ]
  },
  {
   "cell_type": "markdown",
   "metadata": {
    "id": "X2F8lQxVtyNE"
   },
   "source": [
    "### Lists\n",
    "Lists are containers for data."
   ]
  },
  {
   "cell_type": "code",
   "execution_count": 14,
   "metadata": {
    "id": "4II3hh5RtyNF"
   },
   "outputs": [],
   "source": [
    "# Lists are enclosed in square brackets \n",
    "my_list = [1, 2, 3, 4]"
   ]
  },
  {
   "cell_type": "code",
   "execution_count": 15,
   "metadata": {
    "id": "CR0nlZCztyNV"
   },
   "outputs": [],
   "source": [
    "# You can have different data types in a list.\n",
    "my_list = [1, 2, \"cat\", 3, 4]"
   ]
  },
  {
   "cell_type": "code",
   "execution_count": 16,
   "metadata": {},
   "outputs": [],
   "source": [
    "# Nested lists\n",
    "my_list = [1, 2, \"cat\", [3, 4], 5]"
   ]
  },
  {
   "cell_type": "code",
   "execution_count": 17,
   "metadata": {
    "id": "_UpbqrmptyNm"
   },
   "outputs": [
    {
     "data": {
      "text/plain": [
       "[1, 2, 'cat', [3, 4], 5, 6]"
      ]
     },
     "execution_count": 17,
     "metadata": {},
     "output_type": "execute_result"
    }
   ],
   "source": [
    "# If you want to store another value at the end of your list you can use the list.append() function\n",
    "my_list.append(6)\n",
    "my_list"
   ]
  },
  {
   "cell_type": "markdown",
   "metadata": {
    "id": "IoRQYpHI2zI6"
   },
   "source": [
    "### Q. Storing values is great, but now how do I get those values back? How do I access them?\n"
   ]
  },
  {
   "cell_type": "markdown",
   "metadata": {
    "id": "MQ1l-e6YB8jY"
   },
   "source": [
    "###Indexing"
   ]
  },
  {
   "cell_type": "code",
   "execution_count": 18,
   "metadata": {
    "id": "dtqDRKsVCBET"
   },
   "outputs": [],
   "source": [
    "numbers = [3, 1, [4, [1, 5]], 9, 2, 6, 5, 3, 5]"
   ]
  },
  {
   "cell_type": "code",
   "execution_count": 19,
   "metadata": {
    "id": "qGqrJv5gtyNy"
   },
   "outputs": [
    {
     "data": {
      "text/plain": [
       "3"
      ]
     },
     "execution_count": 19,
     "metadata": {},
     "output_type": "execute_result"
    }
   ],
   "source": [
    "# You can index lists using bracket notation. Indexing begins at 0.\n",
    "numbers[0]"
   ]
  },
  {
   "cell_type": "code",
   "execution_count": 20,
   "metadata": {
    "colab": {
     "base_uri": "https://localhost:8080/"
    },
    "id": "8w5MOf1ltyN5",
    "outputId": "e0ced9de-f321-45a5-c3bb-205feee1ed64"
   },
   "outputs": [
    {
     "data": {
      "text/plain": [
       "5"
      ]
     },
     "execution_count": 20,
     "metadata": {},
     "output_type": "execute_result"
    }
   ],
   "source": [
    "numbers[-1]\n",
    "# what value does this refer to?"
   ]
  },
  {
   "cell_type": "code",
   "execution_count": 21,
   "metadata": {
    "colab": {
     "base_uri": "https://localhost:8080/"
    },
    "id": "COuiSU7JtyOG",
    "outputId": "67885196-cc9e-4274-97e1-15b304832557"
   },
   "outputs": [
    {
     "data": {
      "text/plain": [
       "1"
      ]
     },
     "execution_count": 21,
     "metadata": {},
     "output_type": "execute_result"
    }
   ],
   "source": [
    "numbers[2][1][0]        \n",
    "# what value does this refer to?"
   ]
  },
  {
   "cell_type": "markdown",
   "metadata": {
    "id": "rduAgwt9C10r"
   },
   "source": [
    "Accessing multiple elements at once"
   ]
  },
  {
   "cell_type": "code",
   "execution_count": 22,
   "metadata": {
    "id": "ecDmCKcA6tLy"
   },
   "outputs": [],
   "source": [
    "my_list = [5, 10, 15, 20, 25]"
   ]
  },
  {
   "cell_type": "code",
   "execution_count": 23,
   "metadata": {
    "id": "aotNCdqP6w4X"
   },
   "outputs": [
    {
     "data": {
      "text/plain": [
       "[5, 10, 15]"
      ]
     },
     "execution_count": 23,
     "metadata": {},
     "output_type": "execute_result"
    }
   ],
   "source": [
    "# list[start_index(inclusive) : end_index (not inclusive)]\n",
    "my_list[0:3]"
   ]
  },
  {
   "cell_type": "code",
   "execution_count": 24,
   "metadata": {
    "id": "SMwZlJ8ZtyOP"
   },
   "outputs": [
    {
     "data": {
      "text/plain": [
       "[15, 20, 25]"
      ]
     },
     "execution_count": 24,
     "metadata": {},
     "output_type": "execute_result"
    }
   ],
   "source": [
    "# Grab all elements at position 3 and onwards.\n",
    "my_list[2:]"
   ]
  },
  {
   "cell_type": "code",
   "execution_count": 25,
   "metadata": {
    "id": "GgYtc3yotyOW"
   },
   "outputs": [
    {
     "data": {
      "text/plain": [
       "[5]"
      ]
     },
     "execution_count": 25,
     "metadata": {},
     "output_type": "execute_result"
    }
   ],
   "source": [
    "# Grab all elements from the start until, but not including potition 2.\n",
    "my_list[:1]"
   ]
  },
  {
   "cell_type": "code",
   "execution_count": 26,
   "metadata": {
    "colab": {
     "base_uri": "https://localhost:8080/"
    },
    "id": "pB9uG0hCtyOm",
    "outputId": "411f9688-7bf7-4729-cdb9-ea92676d0eaf"
   },
   "outputs": [
    {
     "data": {
      "text/plain": [
       "['one', 1, [4, [1, 5]], 9, 2, 6, 5, 3, 5]"
      ]
     },
     "execution_count": 26,
     "metadata": {},
     "output_type": "execute_result"
    }
   ],
   "source": [
    "# You can also reassign elements in a list.\n",
    "numbers[0] = 'one'\n",
    "numbers"
   ]
  },
  {
   "cell_type": "markdown",
   "metadata": {
    "id": "ArhyaIuhtyQN"
   },
   "source": [
    "## if, elif and else Statements"
   ]
  },
  {
   "cell_type": "markdown",
   "metadata": {
    "id": "U4cWbR6WzXLG"
   },
   "source": [
    "### Q. How would I get my computer to tell me to carry an umbrella if it is raining outside?"
   ]
  },
  {
   "cell_type": "code",
   "execution_count": 27,
   "metadata": {
    "id": "Q9QHwBDmzi80"
   },
   "outputs": [
    {
     "name": "stdout",
     "output_type": "stream",
     "text": [
      "yes\n",
      "PYTHON FUCKING SUCKS\n"
     ]
    }
   ],
   "source": [
    "raining = True\n",
    "if raining:\n",
    "    print(\"yes\")\n",
    "    print(\"PYTHON FUCKING SUCKS\")\n",
    "else:\n",
    "    print(\"Python still sucks\")"
   ]
  },
  {
   "cell_type": "markdown",
   "metadata": {
    "id": "rw2QYpYgzvy2"
   },
   "source": [
    "### Q. How would I get my computer to tell me whether I have enough swipes to enter De Neve's Dining Hall?"
   ]
  },
  {
   "cell_type": "code",
   "execution_count": 28,
   "metadata": {
    "id": "zLgaHu8kztln"
   },
   "outputs": [
    {
     "name": "stdout",
     "output_type": "stream",
     "text": [
      "sucks to be poor\n"
     ]
    }
   ],
   "source": [
    "swipes = 0\n",
    "if swipes > 0:\n",
    "    print(\"yes\")\n",
    "else:\n",
    "    print(\"sucks to be poor\")"
   ]
  },
  {
   "cell_type": "markdown",
   "metadata": {
    "id": "k__Z_WHdz8FQ"
   },
   "source": [
    "###  Q. How would I get my computer to tell me whether I can go to the ULCA vs USC football game? "
   ]
  },
  {
   "cell_type": "code",
   "execution_count": 29,
   "metadata": {
    "id": "5T6rQnvUz7MZ"
   },
   "outputs": [
    {
     "name": "stdout",
     "output_type": "stream",
     "text": [
      "yessir\n"
     ]
    }
   ],
   "source": [
    "python = \"still sucks\"\n",
    "sex = \"sex\"\n",
    "if python == \"Sucks\" and sex == \"sex\":\n",
    "    print(\"yes\")\n",
    "elif python == \"still sucks\":\n",
    "    print (\"yessir\")\n",
    "else:\n",
    "    print(\"no\")"
   ]
  },
  {
   "cell_type": "markdown",
   "metadata": {
    "id": "aEUQLOGYtyQd"
   },
   "source": [
    "## For Loops"
   ]
  },
  {
   "cell_type": "markdown",
   "metadata": {
    "id": "knKfw9et04Ke"
   },
   "source": [
    "### Q. I want to print out the UCLA chant: <br> U - C - L - A. <br> UCLA. <br> FIGHT <br> FIGHT<br> FIGHT <br>\n",
    "\n",
    "But I don't want to type out \"FIGHT\" 3 times. How would I get the computer to print it out as many times as I want?"
   ]
  },
  {
   "cell_type": "code",
   "execution_count": 30,
   "metadata": {
    "id": "7k1Khdzv1Ek1"
   },
   "outputs": [
    {
     "name": "stdout",
     "output_type": "stream",
     "text": [
      "U - C - L - A.\n",
      "UCLA.\n",
      "FIGHT\n",
      "FIGHT\n",
      "FIGHT\n"
     ]
    }
   ],
   "source": [
    "print(\"U - C - L - A.\")\n",
    "print(\"UCLA.\")\n",
    "for i in range(3):\n",
    "    print(\"FIGHT\")"
   ]
  },
  {
   "cell_type": "markdown",
   "metadata": {
    "id": "unWzZlTy1f9T"
   },
   "source": [
    "### Q. I want to print out the list of classes I'm enrolled in"
   ]
  },
  {
   "cell_type": "code",
   "execution_count": 31,
   "metadata": {
    "id": "T6xW-76R1fX5"
   },
   "outputs": [
    {
     "name": "stdout",
     "output_type": "stream",
     "text": [
      "CS31\n",
      "Engcomp 3\n",
      "Math 31A\n"
     ]
    }
   ],
   "source": [
    "classes = [\"CS31\", \"Engcomp 3\", \"Math 31A\"]\n",
    "for i in classes:\n",
    "    print(i)"
   ]
  },
  {
   "cell_type": "markdown",
   "metadata": {
    "id": "XtvGbnaNtyRO"
   },
   "source": [
    "## Functions"
   ]
  },
  {
   "cell_type": "markdown",
   "metadata": {
    "id": "SoAt1k4w2Ou3"
   },
   "source": [
    "### Q. I wrote a really nice piece of code to print out my name 5 times. <br> My friend wants to also print out their name 5 times. <br> Should I just copy-paste my code? "
   ]
  },
  {
   "cell_type": "code",
   "execution_count": 32,
   "metadata": {
    "id": "-p6M0nwu2LAi"
   },
   "outputs": [
    {
     "name": "stdout",
     "output_type": "stream",
     "text": [
      "python sux\n"
     ]
    }
   ],
   "source": [
    "def pythonSux():\n",
    "    print(\"python sux\")\n",
    "    \n",
    "pythonSux()"
   ]
  },
  {
   "cell_type": "markdown",
   "metadata": {
    "id": "afNO-jQ8EXj9"
   },
   "source": [
    "Exercises"
   ]
  },
  {
   "cell_type": "code",
   "execution_count": null,
   "metadata": {
    "id": "AJzVMHCBvbsK"
   },
   "outputs": [],
   "source": [
    "# If you're looking for some extra problems to test out your knowledge, check out this worksheet!\n",
    "# https://drive.google.com/file/d/1QNRb4aZ_0Bk_nGoosZipVNVywakJJWM_/view?usp=sharing"
   ]
  }
 ],
 "metadata": {
  "colab": {
   "collapsed_sections": [],
   "name": "ACM AI Workshop 1 - Intro to Python ",
   "provenance": []
  },
  "kernelspec": {
   "display_name": "Python 3 (ipykernel)",
   "language": "python",
   "name": "python3"
  },
  "language_info": {
   "codemirror_mode": {
    "name": "ipython",
    "version": 3
   },
   "file_extension": ".py",
   "mimetype": "text/x-python",
   "name": "python",
   "nbconvert_exporter": "python",
   "pygments_lexer": "ipython3",
   "version": "3.9.7"
  }
 },
 "nbformat": 4,
 "nbformat_minor": 1
}
