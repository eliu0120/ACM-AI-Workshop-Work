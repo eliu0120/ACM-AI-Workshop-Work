{
 "cells": [
  {
   "cell_type": "code",
   "execution_count": 1,
   "metadata": {
    "id": "YHqbCR6H0Fb7"
   },
   "outputs": [],
   "source": [
    "import numpy as np\n",
    "import matplotlib.pyplot as plt\n",
    "from sklearn.model_selection import train_test_split\n",
    "from sklearn.linear_model import LogisticRegression\n",
    "from sklearn.datasets import load_iris"
   ]
  },
  {
   "cell_type": "code",
   "execution_count": 2,
   "metadata": {
    "id": "NZlxk6Zx0hIa"
   },
   "outputs": [],
   "source": [
    "# load the iris dataset\n",
    "# https://scikit-learn.org/stable/modules/generated/sklearn.datasets.load_iris.html\n",
    "X, y = load_iris(return_X_y=True)"
   ]
  },
  {
   "cell_type": "code",
   "execution_count": 3,
   "metadata": {
    "colab": {
     "base_uri": "https://localhost:8080/"
    },
    "id": "o-8Hb-Gc1alm",
    "outputId": "a4c4d412-0107-45b6-93c5-c93ef30bcc77"
   },
   "outputs": [
    {
     "name": "stdout",
     "output_type": "stream",
     "text": [
      "X has shape: (150, 4)\n",
      "y has shape: (150,)\n"
     ]
    }
   ],
   "source": [
    "print('X has shape:', X.shape)\n",
    "print('y has shape:', y.shape)"
   ]
  },
  {
   "cell_type": "code",
   "execution_count": 4,
   "metadata": {
    "colab": {
     "base_uri": "https://localhost:8080/"
    },
    "id": "rUCqcsPQBA2Y",
    "outputId": "7dc637c2-f006-42c4-8824-dab2aea6fcc1"
   },
   "outputs": [
    {
     "name": "stdout",
     "output_type": "stream",
     "text": [
      "X has shape: (150, 2)\n"
     ]
    }
   ],
   "source": [
    "# drop the last 2 features (we'll work in 2D for now)\n",
    "X = X[:, :2]\n",
    "print('X has shape:', X.shape)"
   ]
  },
  {
   "cell_type": "code",
   "execution_count": 5,
   "metadata": {
    "colab": {
     "base_uri": "https://localhost:8080/"
    },
    "id": "xQ1RxR7UlImr",
    "outputId": "4e4840e8-1fe9-459a-bfc5-76ad68d4908d"
   },
   "outputs": [
    {
     "data": {
      "text/plain": [
       "array([0, 0, 0, 0, 0, 0, 0, 0, 0, 0, 0, 0, 0, 0, 0, 0, 0, 0, 0, 0, 0, 0,\n",
       "       0, 0, 0, 0, 0, 0, 0, 0, 0, 0, 0, 0, 0, 0, 0, 0, 0, 0, 0, 0, 0, 0,\n",
       "       0, 0, 0, 0, 0, 0, 1, 1, 1, 1, 1, 1, 1, 1, 1, 1, 1, 1, 1, 1, 1, 1,\n",
       "       1, 1, 1, 1, 1, 1, 1, 1, 1, 1, 1, 1, 1, 1, 1, 1, 1, 1, 1, 1, 1, 1,\n",
       "       1, 1, 1, 1, 1, 1, 1, 1, 1, 1, 1, 1, 2, 2, 2, 2, 2, 2, 2, 2, 2, 2,\n",
       "       2, 2, 2, 2, 2, 2, 2, 2, 2, 2, 2, 2, 2, 2, 2, 2, 2, 2, 2, 2, 2, 2,\n",
       "       2, 2, 2, 2, 2, 2, 2, 2, 2, 2, 2, 2, 2, 2, 2, 2, 2, 2])"
      ]
     },
     "execution_count": 5,
     "metadata": {},
     "output_type": "execute_result"
    }
   ],
   "source": [
    "y"
   ]
  },
  {
   "cell_type": "markdown",
   "metadata": {
    "id": "_VkoeKYz1Iz8"
   },
   "source": [
    "# Let's tackle binary classification first"
   ]
  },
  {
   "cell_type": "code",
   "execution_count": 6,
   "metadata": {
    "id": "Gvnw4P6J0ss3"
   },
   "outputs": [],
   "source": [
    "def convert_to_binary(X, y):\n",
    "  y01 = (y != 2)\n",
    "  X = X[y01, :]\n",
    "  y = y[y01]\n",
    "  return X, y"
   ]
  },
  {
   "cell_type": "code",
   "execution_count": 7,
   "metadata": {
    "colab": {
     "base_uri": "https://localhost:8080/"
    },
    "id": "PRtK478f1uoP",
    "outputId": "a6cc7313-0055-4ce4-92e8-b6bae0142e8c"
   },
   "outputs": [
    {
     "name": "stdout",
     "output_type": "stream",
     "text": [
      "X_bin has shape: (100, 2)\n",
      "y_bin has shape: (100,)\n"
     ]
    }
   ],
   "source": [
    "# call convert_to_binary on X, y - 1 line\n",
    "X_bin, y_bin = convert_to_binary(X, y)\n",
    "print('X_bin has shape:', X_bin.shape)\n",
    "print('y_bin has shape:', y_bin.shape)"
   ]
  },
  {
   "cell_type": "code",
   "execution_count": 8,
   "metadata": {
    "id": "gPTEzmcX5qp-"
   },
   "outputs": [],
   "source": [
    "def plot_data(X, y):\n",
    "  y0 = (y == 0)\n",
    "  y1 = (y == 1)\n",
    "\n",
    "  plt.figure(figsize=[8, 6])\n",
    "  plt.xlabel('sepal length (cm)')\n",
    "  plt.ylabel('sepal width (cm)')\n",
    "  plt.scatter(X[y0, 0], X[y0, 1], c='b', label='Class 0')\n",
    "  plt.scatter(X[y1, 0], X[y1, 1], c='r', label='Class 1')\n",
    "  plt.legend()"
   ]
  },
  {
   "cell_type": "code",
   "execution_count": 9,
   "metadata": {
    "colab": {
     "base_uri": "https://localhost:8080/",
     "height": 390
    },
    "id": "CEk1-SCMBmFa",
    "outputId": "0c85c50a-9378-40a1-cc41-942bc3678494"
   },
   "outputs": [
    {
     "data": {
      "image/png": "[encoded data removed]",
      "text/plain": [
       "<Figure size 576x432 with 1 Axes>"
      ]
     },
     "metadata": {
      "needs_background": "light"
     },
     "output_type": "display_data"
    }
   ],
   "source": [
    "# plot_data on X_bin, y_binS\n",
    "plot_data(X_bin, y_bin)"
   ]
  },
  {
   "cell_type": "code",
   "execution_count": 10,
   "metadata": {
    "id": "i_z2ZrMc6g29"
   },
   "outputs": [],
   "source": [
    "# split data into train and test data\n",
    "# https://scikit-learn.org/stable/modules/generated/sklearn.model_selection.train_test_split.html\n",
    "X_train, X_test, y_train, y_test = train_test_split(X_bin, y_bin, test_size=0.2, random_state=42)"
   ]
  },
  {
   "cell_type": "code",
   "execution_count": 11,
   "metadata": {
    "id": "uklUwqg87Dkj"
   },
   "outputs": [],
   "source": [
    "# fit the logistic regression to X_train, y_train\n",
    "# https://scikit-learn.org/stable/modules/generated/sklearn.linear_model.LogisticRegression.html\n",
    "log_reg = LogisticRegression().fit(X_train, y_train)"
   ]
  },
  {
   "cell_type": "code",
   "execution_count": 12,
   "metadata": {
    "colab": {
     "base_uri": "https://localhost:8080/"
    },
    "id": "-mhR1oYf7pkc",
    "outputId": "0d95073a-ab68-444e-edf2-b5a51257f5d4"
   },
   "outputs": [
    {
     "name": "stdout",
     "output_type": "stream",
     "text": [
      "Test accuracy: 1.0\n"
     ]
    }
   ],
   "source": [
    "# print accuarcy on test data\n",
    "acc = log_reg.score(X_test, y_test)\n",
    "print('Test accuracy:', acc)"
   ]
  },
  {
   "cell_type": "code",
   "execution_count": 13,
   "metadata": {
    "colab": {
     "base_uri": "https://localhost:8080/"
    },
    "id": "hckpgCdu9NBg",
    "outputId": "a36885be-36bb-4833-b81d-c166fec5d87b"
   },
   "outputs": [
    {
     "data": {
      "text/plain": [
       "array([[ 2.88868978, -2.72919824]])"
      ]
     },
     "execution_count": 13,
     "metadata": {},
     "output_type": "execute_result"
    }
   ],
   "source": [
    "# get model weights\n",
    "log_reg.coef_"
   ]
  },
  {
   "cell_type": "code",
   "execution_count": 14,
   "metadata": {
    "colab": {
     "base_uri": "https://localhost:8080/"
    },
    "id": "8Abavmp39mVC",
    "outputId": "64837956-51a4-4bb1-df87-2633a7e129b0"
   },
   "outputs": [
    {
     "data": {
      "text/plain": [
       "array([-7.07994242])"
      ]
     },
     "execution_count": 14,
     "metadata": {},
     "output_type": "execute_result"
    }
   ],
   "source": [
    "# get model bias\n",
    "log_reg.intercept_"
   ]
  },
  {
   "cell_type": "code",
   "execution_count": 15,
   "metadata": {
    "colab": {
     "base_uri": "https://localhost:8080/",
     "height": 407
    },
    "id": "ZOScGxRS9TQK",
    "outputId": "50087f66-75d2-48de-e5d7-b4c5be2963c5"
   },
   "outputs": [
    {
     "data": {
      "text/plain": [
       "<matplotlib.legend.Legend at 0x1d9111c9f10>"
      ]
     },
     "execution_count": 15,
     "metadata": {},
     "output_type": "execute_result"
    },
    {
     "data": {
      "image/png": "[encoded data removed]",
      "text/plain": [
       "<Figure size 576x432 with 1 Axes>"
      ]
     },
     "metadata": {
      "needs_background": "light"
     },
     "output_type": "display_data"
    }
   ],
   "source": [
    "# plot decision boundary of model\n",
    "plot_data(X_bin, y_bin)\n",
    "slope = - (log_reg.coef_[:, 0]/log_reg.coef_[:, 1])\n",
    "intercept = - (log_reg.intercept_[0]/log_reg.coef_[:, 1])\n",
    "X_plot = np.arange(4, 8)\n",
    "y_plot = slope * X_plot + intercept\n",
    "\n",
    "# plot X_plot, y_plot with plt.plot()\n",
    "# https://matplotlib.org/stable/api/_as_gen/matplotlib.pyplot.plot.html\n",
    "plt.plot(X_plot, y_plot, c='black', label='decision boundary')\n",
    "plt.legend()"
   ]
  },
  {
   "cell_type": "markdown",
   "metadata": {
    "id": "ay06URJ-AsMH"
   },
   "source": [
    "# Success!"
   ]
  }
 ],
 "metadata": {
  "colab": {
   "collapsed_sections": [],
   "name": "Demo_Logistic_Regression.ipynb",
   "provenance": []
  },
  "kernelspec": {
   "display_name": "Python 3 (ipykernel)",
   "language": "python",
   "name": "python3"
  },
  "language_info": {
   "codemirror_mode": {
    "name": "ipython",
    "version": 3
   },
   "file_extension": ".py",
   "mimetype": "text/x-python",
   "name": "python",
   "nbconvert_exporter": "python",
   "pygments_lexer": "ipython3",
   "version": "3.9.7"
  }
 },
 "nbformat": 4,
 "nbformat_minor": 1
}
