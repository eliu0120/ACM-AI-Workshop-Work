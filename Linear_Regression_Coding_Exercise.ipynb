{
 "cells": [
  {
   "cell_type": "code",
   "execution_count": 2,
   "metadata": {
    "executionInfo": {
     "elapsed": 1545,
     "status": "ok",
     "timestamp": 1635217081185,
     "user": {
      "displayName": "Sudhanshu Agrawal",
      "photoUrl": "https://lh3.googleusercontent.com/a-/AOh14GjJt6JPgSu07rPAVff3AjR-aFxO2SSzGU4NBvNn=s64",
      "userId": "07968920173531633943"
     },
     "user_tz": 420
    },
    "id": "J4lGEXuxK3Lw"
   },
   "outputs": [],
   "source": [
    "# import\n",
    "import numpy as np\n",
    "from sklearn import datasets\n",
    "from sklearn.linear_model import LinearRegression\n",
    "from sklearn.model_selection import train_test_split\n",
    "from sklearn.metrics import r2_score, mean_squared_error\n",
    "import matplotlib.pyplot as plt"
   ]
  },
  {
   "cell_type": "markdown",
   "metadata": {
    "id": "9ebN4HScWbJB"
   },
   "source": [
    "**Data Creation and Preprocessing**"
   ]
  },
  {
   "cell_type": "code",
   "execution_count": 25,
   "metadata": {
    "executionInfo": {
     "elapsed": 215,
     "status": "ok",
     "timestamp": 1635217190451,
     "user": {
      "displayName": "Sudhanshu Agrawal",
      "photoUrl": "https://lh3.googleusercontent.com/a-/AOh14GjJt6JPgSu07rPAVff3AjR-aFxO2SSzGU4NBvNn=s64",
      "userId": "07968920173531633943"
     },
     "user_tz": 420
    },
    "id": "QO4CLM5LLuwA"
   },
   "outputs": [],
   "source": [
    "num_data = 300\n",
    "X = np.linspace(0, 50, num_data)\n",
    "noise = 15 * np.random.randn(num_data) \n",
    "y = 4 * X + 14 + noise"
   ]
  },
  {
   "cell_type": "code",
   "execution_count": 26,
   "metadata": {
    "executionInfo": {
     "elapsed": 235,
     "status": "ok",
     "timestamp": 1635217417564,
     "user": {
      "displayName": "Sudhanshu Agrawal",
      "photoUrl": "https://lh3.googleusercontent.com/a-/AOh14GjJt6JPgSu07rPAVff3AjR-aFxO2SSzGU4NBvNn=s64",
      "userId": "07968920173531633943"
     },
     "user_tz": 420
    },
    "id": "GasCEr25pvzY"
   },
   "outputs": [],
   "source": [
    "# Split and Preprocess Data\n",
    "X_train, X_test, y_train, y_test = train_test_split(X, y, test_size=0.2, shuffle=True) # shuffle is set to True by default\n",
    "X_train = X_train.reshape(-1, 1)\n",
    "X_test = X_test.reshape(-1, 1)"
   ]
  },
  {
   "cell_type": "code",
   "execution_count": 27,
   "metadata": {
    "colab": {
     "base_uri": "https://localhost:8080/",
     "height": 283
    },
    "executionInfo": {
     "elapsed": 551,
     "status": "ok",
     "timestamp": 1635217423348,
     "user": {
      "displayName": "Sudhanshu Agrawal",
      "photoUrl": "https://lh3.googleusercontent.com/a-/AOh14GjJt6JPgSu07rPAVff3AjR-aFxO2SSzGU4NBvNn=s64",
      "userId": "07968920173531633943"
     },
     "user_tz": 420
    },
    "id": "fJoEYDGQp2Qg",
    "outputId": "418c1c40-374e-4761-84bf-4bc2be521fc2"
   },
   "outputs": [
    {
     "data": {
      "text/plain": [
       "<matplotlib.legend.Legend at 0x1ee2265feb0>"
      ]
     },
     "execution_count": 27,
     "metadata": {},
     "output_type": "execute_result"
    },
    {
     "data": {
      "image/png": "[encoded data removed]",
      "text/plain": [
       "<Figure size 432x288 with 1 Axes>"
      ]
     },
     "metadata": {
      "needs_background": "light"
     },
     "output_type": "display_data"
    }
   ],
   "source": [
    "# Visualize Data\n",
    "plt.scatter(X_train, y_train, color='blue', label='Training', alpha=0.5)\n",
    "plt.scatter(X_test, y_test, color='red', label='Testing', alpha=0.5)\n",
    "plt.legend()"
   ]
  },
  {
   "cell_type": "markdown",
   "metadata": {
    "id": "h_WlgfL9Xv-T"
   },
   "source": [
    "**Training the Model**"
   ]
  },
  {
   "cell_type": "code",
   "execution_count": 28,
   "metadata": {
    "executionInfo": {
     "elapsed": 269,
     "status": "ok",
     "timestamp": 1635217500964,
     "user": {
      "displayName": "Sudhanshu Agrawal",
      "photoUrl": "https://lh3.googleusercontent.com/a-/AOh14GjJt6JPgSu07rPAVff3AjR-aFxO2SSzGU4NBvNn=s64",
      "userId": "07968920173531633943"
     },
     "user_tz": 420
    },
    "id": "hqrWSJtfq4NA"
   },
   "outputs": [],
   "source": [
    "# Fit Model\n",
    "model = LinearRegression().fit(X_train, y_train)"
   ]
  },
  {
   "cell_type": "code",
   "execution_count": 29,
   "metadata": {
    "colab": {
     "base_uri": "https://localhost:8080/"
    },
    "executionInfo": {
     "elapsed": 219,
     "status": "ok",
     "timestamp": 1635217522472,
     "user": {
      "displayName": "Sudhanshu Agrawal",
      "photoUrl": "https://lh3.googleusercontent.com/a-/AOh14GjJt6JPgSu07rPAVff3AjR-aFxO2SSzGU4NBvNn=s64",
      "userId": "07968920173531633943"
     },
     "user_tz": 420
    },
    "id": "RS2KAQARsdrJ",
    "outputId": "e87c08d0-e6f1-4f2f-b0c2-d92d67ddd7ac"
   },
   "outputs": [
    {
     "name": "stdout",
     "output_type": "stream",
     "text": [
      "Model weights: [3.99261977]\n",
      "Model bias: 14.746839401054217\n"
     ]
    }
   ],
   "source": [
    "# Check Model's Params\n",
    "print(\"Model weights: {}\".format(model.coef_))\n",
    "print(\"Model bias: {}\".format(model.intercept_))"
   ]
  },
  {
   "cell_type": "code",
   "execution_count": 30,
   "metadata": {
    "colab": {
     "base_uri": "https://localhost:8080/"
    },
    "executionInfo": {
     "elapsed": 276,
     "status": "ok",
     "timestamp": 1635217586165,
     "user": {
      "displayName": "Sudhanshu Agrawal",
      "photoUrl": "https://lh3.googleusercontent.com/a-/AOh14GjJt6JPgSu07rPAVff3AjR-aFxO2SSzGU4NBvNn=s64",
      "userId": "07968920173531633943"
     },
     "user_tz": 420
    },
    "id": "TaS5dJfwVIUc",
    "outputId": "8ae6771b-e3fe-49d9-8f5d-dfc2501fb237"
   },
   "outputs": [
    {
     "name": "stdout",
     "output_type": "stream",
     "text": [
      "r2 score: 0.9334793317623956\n"
     ]
    }
   ],
   "source": [
    "# Evaluate model on test data\n",
    "r2 = model.score(X_test, y_test)\n",
    "print(\"r2 score: {}\".format(r2))"
   ]
  },
  {
   "cell_type": "code",
   "execution_count": 31,
   "metadata": {
    "colab": {
     "base_uri": "https://localhost:8080/"
    },
    "executionInfo": {
     "elapsed": 194,
     "status": "ok",
     "timestamp": 1635217688374,
     "user": {
      "displayName": "Sudhanshu Agrawal",
      "photoUrl": "https://lh3.googleusercontent.com/a-/AOh14GjJt6JPgSu07rPAVff3AjR-aFxO2SSzGU4NBvNn=s64",
      "userId": "07968920173531633943"
     },
     "user_tz": 420
    },
    "id": "Okk7fs6jvlyq",
    "outputId": "50cf8a1c-ba81-445c-f27b-73398fbea3ee"
   },
   "outputs": [
    {
     "name": "stdout",
     "output_type": "stream",
     "text": [
      "Mean Squared Error: 225.21553603091147\n"
     ]
    }
   ],
   "source": [
    "# Compute MSE loss on test data\n",
    "y_pred = model.predict(X_test)\n",
    "mse = mean_squared_error(y_test, y_pred)\n",
    "\n",
    "print(\"Mean Squared Error: {}\".format(mse))"
   ]
  },
  {
   "cell_type": "code",
   "execution_count": 32,
   "metadata": {
    "colab": {
     "base_uri": "https://localhost:8080/",
     "height": 283
    },
    "executionInfo": {
     "elapsed": 568,
     "status": "ok",
     "timestamp": 1635217752172,
     "user": {
      "displayName": "Sudhanshu Agrawal",
      "photoUrl": "https://lh3.googleusercontent.com/a-/AOh14GjJt6JPgSu07rPAVff3AjR-aFxO2SSzGU4NBvNn=s64",
      "userId": "07968920173531633943"
     },
     "user_tz": 420
    },
    "id": "A3cdCT-vtcQO",
    "outputId": "ee55bd40-5b94-4858-f3dc-101a3c969220"
   },
   "outputs": [
    {
     "data": {
      "text/plain": [
       "<matplotlib.legend.Legend at 0x1ee205176a0>"
      ]
     },
     "execution_count": 32,
     "metadata": {},
     "output_type": "execute_result"
    },
    {
     "data": {
      "image/png": "[encoded data removed]",
      "text/plain": [
       "<Figure size 432x288 with 1 Axes>"
      ]
     },
     "metadata": {
      "needs_background": "light"
     },
     "output_type": "display_data"
    }
   ],
   "source": [
    "# Plot best fit line\n",
    "plt.scatter(X_train, y_train, color='c', label='Training', alpha=0.5)\n",
    "plt.scatter(X_test, y_test, color='royalblue', label='Testing', alpha=0.5)\n",
    "X_axis = np.linspace(0, 50, num_data).reshape(-1, 1)\n",
    "y_axis = model.predict(X_axis)\n",
    "plt.plot(X_axis, y_axis, color='red', label='Fit')\n",
    "plt.legend()"
   ]
  },
  {
   "cell_type": "markdown",
   "metadata": {
    "id": "8GInqyZ3xLRa"
   },
   "source": [
    "**Real Dataset with Higher Dimensions Example (Feel free to skip if running short on time)**"
   ]
  },
  {
   "cell_type": "code",
   "execution_count": 11,
   "metadata": {
    "executionInfo": {
     "elapsed": 244,
     "status": "ok",
     "timestamp": 1635217900121,
     "user": {
      "displayName": "Sudhanshu Agrawal",
      "photoUrl": "https://lh3.googleusercontent.com/a-/AOh14GjJt6JPgSu07rPAVff3AjR-aFxO2SSzGU4NBvNn=s64",
      "userId": "07968920173531633943"
     },
     "user_tz": 420
    },
    "id": "KLrBuuintld6"
   },
   "outputs": [],
   "source": [
    "# Load Dataset\n",
    "diabetes_X, diabetes_y = datasets.load_diabetes(return_X_y=True)"
   ]
  },
  {
   "cell_type": "code",
   "execution_count": 12,
   "metadata": {
    "executionInfo": {
     "elapsed": 267,
     "status": "ok",
     "timestamp": 1635217909120,
     "user": {
      "displayName": "Sudhanshu Agrawal",
      "photoUrl": "https://lh3.googleusercontent.com/a-/AOh14GjJt6JPgSu07rPAVff3AjR-aFxO2SSzGU4NBvNn=s64",
      "userId": "07968920173531633943"
     },
     "user_tz": 420
    },
    "id": "6vNYjJSwtqDs"
   },
   "outputs": [],
   "source": [
    "# Split Data\n",
    "X_train, X_test, y_train, y_test = train_test_split(diabetes_X, diabetes_y, test_size=0.2, shuffle=True)"
   ]
  },
  {
   "cell_type": "code",
   "execution_count": 13,
   "metadata": {
    "executionInfo": {
     "elapsed": 16,
     "status": "ok",
     "timestamp": 1635217919913,
     "user": {
      "displayName": "Sudhanshu Agrawal",
      "photoUrl": "https://lh3.googleusercontent.com/a-/AOh14GjJt6JPgSu07rPAVff3AjR-aFxO2SSzGU4NBvNn=s64",
      "userId": "07968920173531633943"
     },
     "user_tz": 420
    },
    "id": "bb0pm7Onx4-S"
   },
   "outputs": [],
   "source": [
    "# Fit Model\n",
    "diabetes_model = LinearRegression().fit(X_train, y_train)"
   ]
  },
  {
   "cell_type": "code",
   "execution_count": 14,
   "metadata": {
    "colab": {
     "base_uri": "https://localhost:8080/"
    },
    "executionInfo": {
     "elapsed": 234,
     "status": "ok",
     "timestamp": 1635217931488,
     "user": {
      "displayName": "Sudhanshu Agrawal",
      "photoUrl": "https://lh3.googleusercontent.com/a-/AOh14GjJt6JPgSu07rPAVff3AjR-aFxO2SSzGU4NBvNn=s64",
      "userId": "07968920173531633943"
     },
     "user_tz": 420
    },
    "id": "V7cLu2JlyXtQ",
    "outputId": "af96d7a6-a420-4a55-cdf3-2ef2d1352c06"
   },
   "outputs": [
    {
     "name": "stdout",
     "output_type": "stream",
     "text": [
      "Model weights: [  -4.67933977 -208.03629908  520.22081692  294.69059566 -933.81111343\n",
      "  667.11795696  121.12512468   49.01309103  943.12279536   45.75129969]\n",
      "Model bias: 153.04091303203052\n"
     ]
    }
   ],
   "source": [
    "# Check Model's Params\n",
    "print(\"Model weights: {}\".format(diabetes_model.coef_))\n",
    "print(\"Model bias: {}\".format(diabetes_model.intercept_))"
   ]
  },
  {
   "cell_type": "code",
   "execution_count": 15,
   "metadata": {
    "colab": {
     "base_uri": "https://localhost:8080/"
    },
    "executionInfo": {
     "elapsed": 206,
     "status": "ok",
     "timestamp": 1635217986267,
     "user": {
      "displayName": "Sudhanshu Agrawal",
      "photoUrl": "https://lh3.googleusercontent.com/a-/AOh14GjJt6JPgSu07rPAVff3AjR-aFxO2SSzGU4NBvNn=s64",
      "userId": "07968920173531633943"
     },
     "user_tz": 420
    },
    "id": "gGy54oZzywei",
    "outputId": "709d7360-6ad7-4f8b-d214-c05d9ee39d09"
   },
   "outputs": [
    {
     "name": "stdout",
     "output_type": "stream",
     "text": [
      "r2 score: 0.4718212795462201\n"
     ]
    }
   ],
   "source": [
    "# Evaluate model on test data\n",
    "diabetes_r2 = diabetes_model.score(X_test, y_test)\n",
    "print(\"r2 score: {}\".format(diabetes_r2))"
   ]
  },
  {
   "cell_type": "code",
   "execution_count": 16,
   "metadata": {
    "colab": {
     "base_uri": "https://localhost:8080/"
    },
    "executionInfo": {
     "elapsed": 189,
     "status": "ok",
     "timestamp": 1635218021242,
     "user": {
      "displayName": "Sudhanshu Agrawal",
      "photoUrl": "https://lh3.googleusercontent.com/a-/AOh14GjJt6JPgSu07rPAVff3AjR-aFxO2SSzGU4NBvNn=s64",
      "userId": "07968920173531633943"
     },
     "user_tz": 420
    },
    "id": "qOPniSZJzAfj",
    "outputId": "01f7df48-59d3-465e-baa8-55a085cc7a3d"
   },
   "outputs": [
    {
     "name": "stdout",
     "output_type": "stream",
     "text": [
      "Mean Squared Error: 2702.8648828882115\n"
     ]
    }
   ],
   "source": [
    "# Compute MSE loss on test data\n",
    "diabetes_pred = diabetes_model.predict(X_test)\n",
    "diabetes_mse = mean_squared_error(y_test, diabetes_pred)\n",
    "print(\"Mean Squared Error: {}\".format(diabetes_mse))"
   ]
  },
  {
   "cell_type": "markdown",
   "metadata": {
    "id": "mfZGAyd2z0I5"
   },
   "source": [
    "**Extension: If you want to try this out more, consider only looking at one of the ten input variables from this dataset. Then, you can plot the regression and get a picture of why this dataset isn't the best for linear regression.**\n"
   ]
  },
  {
   "cell_type": "code",
   "execution_count": null,
   "metadata": {
    "id": "LgUkeY8yij16"
   },
   "outputs": [],
   "source": []
  }
 ],
 "metadata": {
  "colab": {
   "collapsed_sections": [],
   "name": "Linear_Regression_Coding_Exercise.ipynb",
   "provenance": []
  },
  "kernelspec": {
   "display_name": "Python 3 (ipykernel)",
   "language": "python",
   "name": "python3"
  },
  "language_info": {
   "codemirror_mode": {
    "name": "ipython",
    "version": 3
   },
   "file_extension": ".py",
   "mimetype": "text/x-python",
   "name": "python",
   "nbconvert_exporter": "python",
   "pygments_lexer": "ipython3",
   "version": "3.9.7"
  }
 },
 "nbformat": 4,
 "nbformat_minor": 1
}
