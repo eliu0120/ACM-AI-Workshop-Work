{
 "cells": [
  {
   "cell_type": "markdown",
   "metadata": {
    "id": "YUYowGK7F5nM"
   },
   "source": [
    "# ACM AI Beginner Track\n",
    "## Worksheet questions for the Intro to Python workshop\n",
    "This worksheet contains questions to help you improve your Python programming skills. \n",
    "\n",
    "It's divided into two parts: **section one** for questions to be done during the workshop and **section two** for questions you can work on in your own time after the workshop.\n",
    "\n"
   ]
  },
  {
   "cell_type": "markdown",
   "metadata": {
    "id": "pYmpvSjZF5nU"
   },
   "source": [
    "### SECTION 1\n",
    "Do these questions during the workshop once we tell you to."
   ]
  },
  {
   "cell_type": "markdown",
   "metadata": {
    "id": "XHVp0Pv0F5nV"
   },
   "source": [
    "#### Question 1\n",
    "Print 183 in one line using the given two variables. "
   ]
  },
  {
   "cell_type": "code",
   "execution_count": 1,
   "metadata": {
    "id": "beC3O9xqF5nV"
   },
   "outputs": [
    {
     "name": "stdout",
     "output_type": "stream",
     "text": [
      "183\n"
     ]
    }
   ],
   "source": [
    "x = 33\n",
    "y = 42\n",
    "#Type answer here.\n",
    "print(x * 3 + y * 2)"
   ]
  },
  {
   "cell_type": "markdown",
   "metadata": {
    "id": "VMxH6kE2F5nW"
   },
   "source": [
    "#### Question 2\n",
    "Print the phrase \"You can't see me!\" in a single statement."
   ]
  },
  {
   "cell_type": "code",
   "execution_count": 2,
   "metadata": {
    "id": "yhTEqVPKF5nW"
   },
   "outputs": [
    {
     "name": "stdout",
     "output_type": "stream",
     "text": [
      "You can't see me!\n"
     ]
    }
   ],
   "source": [
    "# Type answer here.\n",
    "print(\"You can't see me!\")"
   ]
  },
  {
   "cell_type": "markdown",
   "metadata": {
    "id": "8hC1jBsdF5nW"
   },
   "source": [
    "#### Question 3\n",
    "Using a loop, print out every second entry in the array."
   ]
  },
  {
   "cell_type": "code",
   "execution_count": 5,
   "metadata": {
    "id": "kf46JPA6F5nX"
   },
   "outputs": [
    {
     "name": "stdout",
     "output_type": "stream",
     "text": [
      "2\n",
      "4\n",
      "6\n",
      "8\n",
      "0\n"
     ]
    }
   ],
   "source": [
    "arr = [1,2,3,4,5,6,7,8,9,0]\n",
    "# Type answer here.\n",
    "for i in range(1, len(arr), 2):\n",
    "    print(arr[i])"
   ]
  },
  {
   "cell_type": "markdown",
   "metadata": {
    "id": "CsxemmA2F5nX"
   },
   "source": [
    "#### Question 4\n",
    "Access the number 3 in the list below."
   ]
  },
  {
   "cell_type": "code",
   "execution_count": 6,
   "metadata": {
    "id": "iLHTpPEiF5nX"
   },
   "outputs": [
    {
     "data": {
      "text/plain": [
       "3"
      ]
     },
     "execution_count": 6,
     "metadata": {},
     "output_type": "execute_result"
    }
   ],
   "source": [
    "confuse = [8, [[[2, [4]], 6, [7, 1], 3], 0, 5], 9]\n",
    "# Type answer here.\n",
    "confuse[1][0][3]"
   ]
  },
  {
   "cell_type": "markdown",
   "metadata": {
    "id": "B-O77gbWF5nY"
   },
   "source": [
    "#### Question 5\n",
    "Using the map method, add the letter 's' to each string in the list below."
   ]
  },
  {
   "cell_type": "code",
   "execution_count": 7,
   "metadata": {
    "id": "KuP7zA2wF5nY"
   },
   "outputs": [
    {
     "data": {
      "text/plain": [
       "['among us', 'sus', 'imposters']"
      ]
     },
     "execution_count": 7,
     "metadata": {},
     "output_type": "execute_result"
    }
   ],
   "source": [
    "add_s = [\"among u\", \"su\", \"imposter\"]\n",
    "# Type answer here.\n",
    "for i in range(len(add_s)):\n",
    "    add_s[i] += \"s\"\n",
    "add_s"
   ]
  },
  {
   "cell_type": "markdown",
   "metadata": {
    "id": "2hpouFmyF5nY"
   },
   "source": [
    "#### Question 6\n",
    "Define a function that takes in a single number and returns the absolute value of that number."
   ]
  },
  {
   "cell_type": "code",
   "execution_count": 8,
   "metadata": {
    "executionInfo": {
     "elapsed": 572,
     "status": "ok",
     "timestamp": 1618370097210,
     "user": {
      "displayName": "NIKHIL SURESH",
      "photoUrl": "",
      "userId": "10808397721766349242"
     },
     "user_tz": 420
    },
    "id": "wLpiT093F5nY"
   },
   "outputs": [
    {
     "name": "stdout",
     "output_type": "stream",
     "text": [
      "5\n"
     ]
    }
   ],
   "source": [
    "def abs(x):\n",
    "    if (x < 0):\n",
    "        x *= -1\n",
    "    return x\n",
    "\n",
    "print(abs(-5))"
   ]
  },
  {
   "cell_type": "markdown",
   "metadata": {
    "id": "ebTtRyB8F5nZ"
   },
   "source": [
    "### SECTION 2\n",
    "Feel free to do these questions after the workshop is over to further build on your Python skills. Some of these are a bit hard so don't feel demotivated if you can't get them immediately. Don't shy away from venturing outside of the details outlined in the reference document and looking up things online or asking any of the beginner track officers."
   ]
  },
  {
   "cell_type": "markdown",
   "metadata": {
    "id": "87iqiV_cF5nZ"
   },
   "source": [
    "#### Question 1\n",
    "Define a function that takes in a single number as seconds and returns the number of years that number represents."
   ]
  },
  {
   "cell_type": "code",
   "execution_count": 9,
   "metadata": {
    "id": "5RQDxxIaF5nZ"
   },
   "outputs": [
    {
     "name": "stdout",
     "output_type": "stream",
     "text": [
      "1.0\n"
     ]
    }
   ],
   "source": [
    "def seconds_to_years(seconds):\n",
    "    return seconds / 31556952\n",
    "\n",
    "print(seconds_to_years(31556952))"
   ]
  },
  {
   "cell_type": "markdown",
   "metadata": {
    "id": "5q1kRXP1F5nZ"
   },
   "source": [
    "#### Question 2\n",
    "Define a function that takes in a list and a number as parameters and removes the entry at that number (position), shifting all entries after that position down the list and replacing the last entry with -1. If this can be successfully done, return the array itself, otherwise return \"ERROR\".\n",
    "\n",
    "Remember, the first entry in a list is considered to be at position 0!\n",
    "\n",
    "Example: ([1,2,3,4,5], 1) => [1,3,4,5,-1]\n",
    "\n",
    "Example: ([1,2,3,4,5], 10) => \"ERROR\"  "
   ]
  },
  {
   "cell_type": "code",
   "execution_count": 7,
   "metadata": {
    "id": "iYr4IEdxF5na"
   },
   "outputs": [
    {
     "name": "stdout",
     "output_type": "stream",
     "text": [
      "[1, 3, 4, 5, -1]\n",
      "ERROR\n"
     ]
    }
   ],
   "source": [
    "def filter(array, pos):\n",
    "    if (pos > len(array)):\n",
    "        return \"ERROR\"\n",
    "    for i in range(pos, len(array) - 1):\n",
    "        array[i] = array[i + 1]\n",
    "    array[-1] = -1\n",
    "    return array\n",
    "\n",
    "print(filter([1,2,3,4,5], 1))\n",
    "print(filter([1,2,3,4,5], 10))"
   ]
  },
  {
   "cell_type": "markdown",
   "metadata": {
    "id": "wtlGjwM6F5na"
   },
   "source": [
    "#### Question 3\n",
    "Define a function that sorts a given list of numbers in ascending order."
   ]
  },
  {
   "cell_type": "code",
   "execution_count": 10,
   "metadata": {
    "id": "xM1-R-AqF5na"
   },
   "outputs": [
    {
     "name": "stdout",
     "output_type": "stream",
     "text": [
      "[0, 1, 2, 3, 5, 6]\n"
     ]
    }
   ],
   "source": [
    "def asc(array):\n",
    "    for i in range(len(array) - 1):\n",
    "        for j in range(len(array) - 1 - i):\n",
    "            if (array[j] > array[j + 1]):\n",
    "                storage = array[j]\n",
    "                array[j] = array[j + 1]\n",
    "                array[j + 1] = storage\n",
    "    return array\n",
    "\n",
    "print(asc([0, 5, 3, 2, 6, 1]))"
   ]
  },
  {
   "cell_type": "markdown",
   "metadata": {
    "id": "tFtzSzy4F5na"
   },
   "source": [
    "#### Question 4\n",
    "Using a lambda function and the map method, print the phrase \"SOME_WORD is a palindrome.\" if the word in the list below is a palindrome or \"SOME_WORD is not a palindrome.\" if it isn't.\n",
    "\n",
    "Example: \"racecar is a palindrome.\"\n",
    "\n",
    "Example: \"pandas is not a palindrome.\""
   ]
  },
  {
   "cell_type": "code",
   "execution_count": 14,
   "metadata": {
    "id": "sNpn_WHrF5nb"
   },
   "outputs": [
    {
     "name": "stdout",
     "output_type": "stream",
     "text": [
      "racecar is a palindrome\n",
      "python is not a palindrome\n",
      "pandas is not a palindrome\n",
      "nun is a palindrome\n",
      "madam is a palindrome\n",
      "lambda is not a palindrome\n"
     ]
    }
   ],
   "source": [
    "words = ['racecar', 'python', 'pandas', 'nun', 'madam', 'lambda']\n",
    "palindrome = lambda words : words == words[::-1]\n",
    "for i in words:\n",
    "    if (palindrome(i)):\n",
    "        print(i + \" is a palindrome\")\n",
    "    else:\n",
    "        print(i + \" is not a palindrome\")"
   ]
  },
  {
   "cell_type": "markdown",
   "metadata": {
    "id": "ul81bYEcF5nb"
   },
   "source": [
    "#### Question 5\n",
    "Define a function that takes a list as its only parameter and returns the first entry in the list that is repeated.\n",
    "If no such entry is found, return -1.\n",
    "\n",
    "Example: ([1,2,3,2,4,5,4]) => 2\n",
    "\n",
    "Example: ([1,2,3]) => -1"
   ]
  },
  {
   "cell_type": "code",
   "execution_count": 18,
   "metadata": {
    "id": "bQXrjpPbF5nb"
   },
   "outputs": [
    {
     "name": "stdout",
     "output_type": "stream",
     "text": [
      "2\n",
      "-1\n"
     ]
    }
   ],
   "source": [
    "def repeat(array):\n",
    "    array2 = []\n",
    "    for i in array:\n",
    "        for j in array2:\n",
    "            if (i == j):\n",
    "                return j\n",
    "        array2.append(i)\n",
    "    return -1\n",
    "array = [1, 2, 3, 2, 4, 5, 4]\n",
    "print(repeat(array))\n",
    "array = [1, 2, 3]\n",
    "print(repeat(array))"
   ]
  }
 ],
 "metadata": {
  "colab": {
   "name": "Worksheet/Exercise notebook for Intro to Python.ipynb",
   "provenance": []
  },
  "kernelspec": {
   "display_name": "Python 3 (ipykernel)",
   "language": "python",
   "name": "python3"
  },
  "language_info": {
   "codemirror_mode": {
    "name": "ipython",
    "version": 3
   },
   "file_extension": ".py",
   "mimetype": "text/x-python",
   "name": "python",
   "nbconvert_exporter": "python",
   "pygments_lexer": "ipython3",
   "version": "3.9.7"
  }
 },
 "nbformat": 4,
 "nbformat_minor": 1
}
